{
 "cells": [
  {
   "cell_type": "code",
   "execution_count": 1,
   "metadata": {},
   "outputs": [],
   "source": [
    "import matplotlib.pyplot as plt \n",
    "import numpy as np\n",
    "import sklearn\n",
    "import pandas as pd\n",
    "from sklearn import model_selection, linear_model\n",
    "\n"
   ]
  },
  {
   "cell_type": "code",
   "execution_count": 2,
   "metadata": {},
   "outputs": [],
   "source": [
    "#load data \n",
    "data = pd.read_csv('data/day.csv', sep=',', header=0,)\n",
    "#convert to numpy array\n",
    "data_array = np.array(data)\n",
    "#data_array.shape"
   ]
  },
  {
   "cell_type": "code",
   "execution_count": 3,
   "metadata": {},
   "outputs": [],
   "source": [
    "# # splitting training and testing data (features)\n",
    "X = data_array[:,:-3]\n",
    "# remove date column (second column)\n",
    "X = np.delete(X, 1, 1) \n",
    "# splitting training and testing data (targer)\n",
    "y_casual = data_array[:,-3]\n",
    "y_registered = data_array[:,-2]\n",
    "y_cnt = data_array[:,-1]"
   ]
  },
  {
   "cell_type": "code",
   "execution_count": 4,
   "metadata": {},
   "outputs": [
    {
     "name": "stdout",
     "output_type": "stream",
     "text": [
      "(584, 12) (147, 12) (584, 1) (147, 1)\n"
     ]
    }
   ],
   "source": [
    "# split the data for training \n",
    "X_train, X_test, y_cnt_train, y_cnt_test = model_selection.train_test_split(X, y_cnt, test_size=0.2)\n",
    "y_cnt_train = y_cnt_train[:,np.newaxis]\n",
    "y_cnt_test = y_cnt_test[:,np.newaxis]\n",
    "\n",
    "print(X_train.shape, X_test.shape,y_cnt_train.shape, y_cnt_test.shape )\n",
    "\n"
   ]
  },
  {
   "cell_type": "code",
   "execution_count": 5,
   "metadata": {},
   "outputs": [],
   "source": [
    "# change type, even thou type(y_cnt) output is the same before and after \n",
    "# fixes following error \n",
    "# ValueError: Unknown label type: 'unknown'\n",
    "y_cnt_train=y_cnt_train.astype('int')\n",
    "y_cnt_test=y_cnt_test.astype('int')\n"
   ]
  },
  {
   "cell_type": "code",
   "execution_count": 6,
   "metadata": {},
   "outputs": [
    {
     "data": {
      "text/plain": [
       "LinearRegression(copy_X=True, fit_intercept=True, n_jobs=1, normalize=False)"
      ]
     },
     "execution_count": 6,
     "metadata": {},
     "output_type": "execute_result"
    }
   ],
   "source": [
    "\n",
    "regr = linear_model.LinearRegression()# fit classifier \n",
    "regr.fit(X_train, y_cnt_train)"
   ]
  },
  {
   "cell_type": "code",
   "execution_count": 7,
   "metadata": {},
   "outputs": [
    {
     "name": "stdout",
     "output_type": "stream",
     "text": [
      "Coefficients: [[  -10.0703253    552.55203982  5733.24988907   268.4911856   -340.28251608\n",
      "     62.66095301   185.02252617  -655.97002202  2437.38452495\n",
      "   3083.13428393 -1074.15599    -2321.92673573]]\n"
     ]
    }
   ],
   "source": [
    "# # The coefficients\n",
    "print('Coefficients:', regr.coef_)\n",
    "# # The mean square error\n",
    "# print(\"Residual sum of squares: %.2f\"\n",
    "#       % np.mean((regr.predict(X_test) - y_cnt_test) ** 2))\n",
    "# # Explained variance score: 1 is perfect prediction\n",
    "# print('Variance score: %.2f' % regr.score(X_test, y_cnt_test))\n"
   ]
  },
  {
   "cell_type": "code",
   "execution_count": 8,
   "metadata": {},
   "outputs": [
    {
     "name": "stdout",
     "output_type": "stream",
     "text": [
      "2\n"
     ]
    }
   ],
   "source": [
    "#select the best feature based on coeficient\n",
    "feature_column = np.argmax(regr.coef_)\n",
    "print(feature_column)"
   ]
  },
  {
   "cell_type": "code",
   "execution_count": 9,
   "metadata": {},
   "outputs": [],
   "source": [
    "# split the data to use just one feature with the highest coeficient\n",
    "X_train =  X_train[:,8]\n",
    "X_test = X_test[:,8]\n",
    "\n",
    "X_train = X_train[:,np.newaxis]\n",
    "X_test = X_test[:,np.newaxis]"
   ]
  },
  {
   "cell_type": "code",
   "execution_count": 10,
   "metadata": {},
   "outputs": [],
   "source": [
    "# print (X_train.shape)\n",
    "# print (X_test.shape)\n",
    "\n",
    "# print (y_cnt_train.shape)\n",
    "# print (y_cnt_test.shape)"
   ]
  },
  {
   "cell_type": "code",
   "execution_count": 11,
   "metadata": {},
   "outputs": [
    {
     "data": {
      "text/plain": [
       "LinearRegression(copy_X=True, fit_intercept=True, n_jobs=1, normalize=False)"
      ]
     },
     "execution_count": 11,
     "metadata": {},
     "output_type": "execute_result"
    }
   ],
   "source": [
    "# do regression just for one feature\n",
    "regr = linear_model.LinearRegression()# fit classifier \n",
    "regr.fit(X_train, y_cnt_train)"
   ]
  },
  {
   "cell_type": "code",
   "execution_count": 12,
   "metadata": {},
   "outputs": [
    {
     "name": "stdout",
     "output_type": "stream",
     "text": [
      "Coefficients: [[ 6689.82807279]]\n",
      "Residual sum of squares: 2068802.07\n",
      "Variance score: 0.41\n"
     ]
    }
   ],
   "source": [
    "# The coefficients and scores \n",
    "print('Coefficients:', regr.coef_)\n",
    "# The mean square error\n",
    "print(\"Residual sum of squares: %.2f\"\n",
    "      % np.mean((regr.predict(X_test) - y_cnt_test) ** 2))\n",
    "# Explained variance score: 1 is perfect prediction\n",
    "print('Variance score: %.2f' % regr.score(X_test, y_cnt_test))\n"
   ]
  },
  {
   "cell_type": "code",
   "execution_count": 14,
   "metadata": {},
   "outputs": [
    {
     "data": {
      "image/png": "[encoded data removed]",
      "text/plain": [
       "<Figure size 432x288 with 1 Axes>"
      ]
     },
     "metadata": {},
     "output_type": "display_data"
    }
   ],
   "source": [
    "#visualize w/plot \n",
    "\n",
    "# Plot outputs\n",
    "plt.scatter(X_test, y_cnt_test,  color='black')\n",
    "plt.plot(X_test, regr.predict(X_test), color='blue',\n",
    "         linewidth=3)\n",
    "plt.title('Day: CNT Riders')\n",
    "plt.xticks(())\n",
    "plt.yticks(())\n",
    "\n",
    "plt.show()"
   ]
  },
  {
   "cell_type": "code",
   "execution_count": null,
   "metadata": {},
   "outputs": [],
   "source": []
  },
  {
   "cell_type": "code",
   "execution_count": null,
   "metadata": {},
   "outputs": [],
   "source": []
  },
  {
   "cell_type": "code",
   "execution_count": null,
   "metadata": {},
   "outputs": [],
   "source": []
  },
  {
   "cell_type": "code",
   "execution_count": null,
   "metadata": {},
   "outputs": [],
   "source": []
  },
  {
   "cell_type": "code",
   "execution_count": null,
   "metadata": {},
   "outputs": [],
   "source": []
  },
  {
   "cell_type": "code",
   "execution_count": null,
   "metadata": {},
   "outputs": [],
   "source": [
    "\n"
   ]
  },
  {
   "cell_type": "code",
   "execution_count": null,
   "metadata": {},
   "outputs": [],
   "source": []
  },
  {
   "cell_type": "code",
   "execution_count": null,
   "metadata": {},
   "outputs": [],
   "source": []
  }
 ],
 "metadata": {
  "kernelspec": {
   "display_name": "Python 3",
   "language": "python",
   "name": "python3"
  },
  "language_info": {
   "codemirror_mode": {
    "name": "ipython",
    "version": 3
   },
   "file_extension": ".py",
   "mimetype": "text/x-python",
   "name": "python",
   "nbconvert_exporter": "python",
   "pygments_lexer": "ipython3",
   "version": "3.6.3"
  }
 },
 "nbformat": 4,
 "nbformat_minor": 2
}
