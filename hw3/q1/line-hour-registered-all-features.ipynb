{
 "cells": [
  {
   "cell_type": "code",
   "execution_count": 1,
   "metadata": {},
   "outputs": [],
   "source": [
    "import matplotlib.pyplot as plt \n",
    "import numpy as np\n",
    "import sklearn\n",
    "import pandas as pd\n",
    "from sklearn import model_selection, linear_model\n",
    "\n"
   ]
  },
  {
   "cell_type": "code",
   "execution_count": 2,
   "metadata": {},
   "outputs": [],
   "source": [
    "#load data \n",
    "data = pd.read_csv('data/hour.csv', sep=',', header=0,)\n",
    "#convert to numpy array\n",
    "data_array = np.array(data)\n",
    "#data_array.shape"
   ]
  },
  {
   "cell_type": "code",
   "execution_count": 3,
   "metadata": {},
   "outputs": [],
   "source": [
    "# # splitting training and testing data (features)\n",
    "X = data_array[:,:-3]\n",
    "# remove date column (second column)\n",
    "X = np.delete(X, 1, 1)\n",
    "# remove column with hours\n",
    "#X = np.delete(X,5,1) \n",
    "\n",
    "# splitting training and testing data (targer)\n",
    "y_registered = data_array[:,-2]\n"
   ]
  },
  {
   "cell_type": "code",
   "execution_count": 4,
   "metadata": {},
   "outputs": [
    {
     "name": "stdout",
     "output_type": "stream",
     "text": [
      "(13903, 13) (3476, 13) (13903,) (3476,)\n"
     ]
    }
   ],
   "source": [
    "# split the data for training \n",
    "X_train, X_test, y_registered_train, y_registered_test = model_selection.train_test_split(X, y_registered, test_size=0.2)\n",
    "#y_registered_train = y_registered_train[:,np.newaxis]\n",
    "#y_registered_test = y_registered_test[:,np.newaxis]\n",
    "\n",
    "print(X_train.shape, X_test.shape,y_registered_train.shape, y_registered_test.shape )"
   ]
  },
  {
   "cell_type": "code",
   "execution_count": 5,
   "metadata": {},
   "outputs": [],
   "source": [
    "# idk why but we need to change type even thou type(y_registered) output is the same before and after \n",
    "# but it fixes following error \n",
    "# ValueError: Unknown label type: 'unknown'\n",
    "y_registered_train=y_registered_train.astype('int')\n",
    "y_registered_test=y_registered_test.astype('int')\n"
   ]
  },
  {
   "cell_type": "code",
   "execution_count": 6,
   "metadata": {},
   "outputs": [
    {
     "data": {
      "text/plain": [
       "LinearRegression(copy_X=True, fit_intercept=True, n_jobs=1, normalize=False)"
      ]
     },
     "execution_count": 6,
     "metadata": {},
     "output_type": "execute_result"
    }
   ],
   "source": [
    "\n",
    "regr = linear_model.LinearRegression()# fit classifier \n",
    "regr.fit(X_train, y_registered_train)"
   ]
  },
  {
   "cell_type": "code",
   "execution_count": 7,
   "metadata": {},
   "outputs": [
    {
     "name": "stdout",
     "output_type": "stream",
     "text": [
      "Coefficients: [ -5.27395060e-03   1.85372150e+01   1.16628025e+02   4.00126753e+00\n",
      "   6.50431066e+00  -1.14098998e+01   9.64552702e-01   3.91302824e+01\n",
      "  -4.13745893e+00   4.49763927e+01   1.50972215e+02  -1.33502891e+02\n",
      "   3.72801708e+01]\n",
      "Residual sum of squares: 15407.64\n",
      "Variance score: 0.31\n"
     ]
    }
   ],
   "source": [
    "# The coefficients\n",
    "print('Coefficients:', regr.coef_)\n",
    "# The mean square error\n",
    "print(\"Residual sum of squares: %.2f\"\n",
    "      % np.mean((regr.predict(X_test) - y_registered_test) ** 2))\n",
    "# Explained variance score: 1 is perfect prediction\n",
    "print('Variance score: %.2f' % regr.score(X_test, y_registered_test))\n"
   ]
  },
  {
   "cell_type": "code",
   "execution_count": 8,
   "metadata": {},
   "outputs": [
    {
     "data": {
      "text/plain": [
       "(3476, 13)"
      ]
     },
     "execution_count": 8,
     "metadata": {},
     "output_type": "execute_result"
    }
   ],
   "source": [
    "X_test.shape"
   ]
  },
  {
   "cell_type": "code",
   "execution_count": 9,
   "metadata": {},
   "outputs": [
    {
     "data": {
      "text/plain": [
       "(3476,)"
      ]
     },
     "execution_count": 9,
     "metadata": {},
     "output_type": "execute_result"
    }
   ],
   "source": [
    "y_registered_test.shape"
   ]
  },
  {
   "cell_type": "code",
   "execution_count": 10,
   "metadata": {},
   "outputs": [],
   "source": [
    "y_registered_test.resize(X_test.shape)"
   ]
  },
  {
   "cell_type": "code",
   "execution_count": 11,
   "metadata": {},
   "outputs": [
    {
     "data": {
      "text/plain": [
       "array([[ 89,  79, 108, ...,  29, 263, 740],\n",
       "       [155,   3, 304, ...,  13, 232,  11],\n",
       "       [149,   6,   4, ...,   5, 185, 105],\n",
       "       ..., \n",
       "       [  0,   0,   0, ...,   0,   0,   0],\n",
       "       [  0,   0,   0, ...,   0,   0,   0],\n",
       "       [  0,   0,   0, ...,   0,   0,   0]])"
      ]
     },
     "execution_count": 11,
     "metadata": {},
     "output_type": "execute_result"
    }
   ],
   "source": [
    "y_registered_test"
   ]
  },
  {
   "cell_type": "code",
   "execution_count": 12,
   "metadata": {},
   "outputs": [
    {
     "data": {
      "image/png": "[encoded data removed]",
      "text/plain": [
       "<Figure size 432x288 with 1 Axes>"
      ]
     },
     "metadata": {},
     "output_type": "display_data"
    }
   ],
   "source": [
    "# visualize w/plot \n",
    "\n",
    "# Plot outputs\n",
    "plt.scatter(X_test, y_registered_test,  color='black')\n",
    "plt.plot(X_test, regr.predict(X_test), color='blue',\n",
    "         linewidth=0.1)\n",
    "\n",
    "plt.xticks(())\n",
    "plt.yticks(())\n",
    "plt.title('Hour: registered Riders')\n",
    "plt.show()"
   ]
  },
  {
   "cell_type": "code",
   "execution_count": null,
   "metadata": {},
   "outputs": [],
   "source": []
  },
  {
   "cell_type": "code",
   "execution_count": null,
   "metadata": {},
   "outputs": [],
   "source": []
  },
  {
   "cell_type": "code",
   "execution_count": null,
   "metadata": {},
   "outputs": [],
   "source": []
  },
  {
   "cell_type": "code",
   "execution_count": null,
   "metadata": {},
   "outputs": [],
   "source": []
  },
  {
   "cell_type": "code",
   "execution_count": null,
   "metadata": {},
   "outputs": [],
   "source": []
  },
  {
   "cell_type": "code",
   "execution_count": null,
   "metadata": {},
   "outputs": [],
   "source": [
    "\n"
   ]
  },
  {
   "cell_type": "code",
   "execution_count": null,
   "metadata": {},
   "outputs": [],
   "source": []
  },
  {
   "cell_type": "code",
   "execution_count": null,
   "metadata": {},
   "outputs": [],
   "source": []
  }
 ],
 "metadata": {
  "kernelspec": {
   "display_name": "Python 3",
   "language": "python",
   "name": "python3"
  },
  "language_info": {
   "codemirror_mode": {
    "name": "ipython",
    "version": 3
   },
   "file_extension": ".py",
   "mimetype": "text/x-python",
   "name": "python",
   "nbconvert_exporter": "python",
   "pygments_lexer": "ipython3",
   "version": "3.6.3"
  }
 },
 "nbformat": 4,
 "nbformat_minor": 2
}
